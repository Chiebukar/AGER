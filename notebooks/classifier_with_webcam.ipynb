{
 "cells": [
  {
   "cell_type": "code",
   "execution_count": 1,
   "metadata": {},
   "outputs": [],
   "source": [
    "import numpy as np\n",
    "import cv2\n",
    "from keras.preprocessing.image import load_img, save_img, img_to_array\n",
    "from keras.models import load_model\n",
    "from os import listdir\n",
    "import matplotlib.pyplot as plt\n",
    "from keras.applications.imagenet_utils import preprocess_input"
   ]
  },
  {
   "cell_type": "code",
   "execution_count": 2,
   "metadata": {},
   "outputs": [],
   "source": [
    "faceCascade= cv2.CascadeClassifier('haarcascade_frontalface_default.xml')"
   ]
  },
  {
   "cell_type": "code",
   "execution_count": 3,
   "metadata": {},
   "outputs": [],
   "source": [
    "def preprocess_image(img_path):\n",
    "    img = image.load_image(img_path, target_size(224, 224))\n",
    "    img = image_to_array(img)\n",
    "    img = np.expand_dims(img, axis=0)\n",
    "    img = preprocess_input(img)\n",
    "    return img"
   ]
  },
  {
   "cell_type": "code",
   "execution_count": 4,
   "metadata": {},
   "outputs": [],
   "source": [
    "age_model = load_model('./models/age_model.h5')\n",
    "gender_model = load_model('./models/gender_model.h5')"
   ]
  },
  {
   "cell_type": "code",
   "execution_count": 5,
   "metadata": {},
   "outputs": [],
   "source": [
    "# indices for age labels\n",
    "output_indices = np.array(range(101))"
   ]
  },
  {
   "cell_type": "code",
   "execution_count": 6,
   "metadata": {},
   "outputs": [],
   "source": [
    "gender_labels = ['Female', 'Male']"
   ]
  },
  {
   "cell_type": "code",
   "execution_count": 7,
   "metadata": {},
   "outputs": [],
   "source": [
    "enableGenderIcons = False\n",
    "\n",
    "# male_icon = cv2.imread(\"male.jpg\")\n",
    "# male_icon = cv2.resize(male_icon, (40, 40))\n",
    "\n",
    "# female_icon = cv2.imread(\"female.jpg\")\n",
    "# female_icon = cv2.resize(female_icon, (40, 40))"
   ]
  },
  {
   "cell_type": "code",
   "execution_count": 8,
   "metadata": {},
   "outputs": [],
   "source": [
    "video_capture = cv2.VideoCapture(0)  # capture front camera(0)\n",
    "\n",
    "while True:\n",
    "    ret, frame = video_capture.read()\n",
    "    img_gray = cv2.cvtColor(frame, cv2.COLOR_BGR2GRAY)\n",
    "    faces = faceCascade.detectMultiScale(img_gray, 1.3, 5)\n",
    "    for (x,y,w,h) in faces:\n",
    "        if w > 130:    # ignore small faces\n",
    "            cv2.rectangle(frame, (x,y), (x+w, y+h), (128, 128, 128), 1) # draw rectangle on main image\n",
    "            detected_face = frame[int(y): int(y+h), int(x): int(x+w)] # crop detected face\n",
    "            \n",
    "            try:\n",
    "                # expand detected face to accomodate margin\n",
    "                margin = 30\n",
    "                margin_x = int((w * margin)/100); margin_y = int((h * margin)/ 100)\n",
    "                detected_face = frame[int(y-margin_y):int(y+h+margin_y), int(x-margin_x):int(x+w+margin_x)]\n",
    "                \n",
    "            except:\n",
    "                print('detected face has no image')\n",
    "            \n",
    "            # resizing image to expected size\n",
    "            try: \n",
    "                \n",
    "                # resizing image to expected size\n",
    "                detected_face = cv2.resize(detected_face, (224,224))\n",
    "                \n",
    "                img_pixels = img_to_array(detected_face)\n",
    "                img_pixels = np.expand_dims(img_pixels, axis=0)\n",
    "                img_pixels /= 255\n",
    "                \n",
    "                # predict age \n",
    "                age_prediction = age_model.predict(img_pixels)\n",
    "                apparent_age = str(int(np.floor(np.sum(age_prediction * output_indices, axis = 1))[0]))\n",
    "                \n",
    "                # predict gender\n",
    "                gender_prediction = gender_model.predict(img_pixels)\n",
    "                gender_index = np.argmax(gender_prediction)\n",
    "                gender = gender_labels[gender_index]\n",
    "                \n",
    "                \n",
    "                # back ground to display age and gender \n",
    "                info_box_color = (46, 200, 255)\n",
    "                triangle_cnt = np.array( [(x+int(w/2), y), (x+int(w/2)-20, y-20), (x+int(w/2)+20, y-20)] )\n",
    "                cv2.drawContours(frame, [triangle_cnt], 0, info_box_color, -1)\n",
    "                cv2.rectangle(frame,(x+int(w/2)-50,y-20),(x+int(w/2)+50,y-90),info_box_color,cv2.FILLED)\n",
    "                \n",
    "                # labels for age and gender\n",
    "                cv2.putText(frame, apparent_age, (x+int(w/2), y - 45), cv2.FONT_HERSHEY_SIMPLEX, 1, (0, 111, 255), 2)\n",
    "                \n",
    "                if enableGenderIcons:\n",
    "                    if gender == 'Male': gender_icon = male_icon\n",
    "                    else: gender_icon = female_icon\n",
    "                \n",
    "                else:\n",
    "                    cv2.putText(frame, gender, (x+int(w/2)-20, y - 45), cv2.FONT_HERSHEY_SIMPLEX, 1, (0, 111, 255), 2)\n",
    "        \n",
    "            except Exception as e:\n",
    "                print(\"exception: \",str(e))\n",
    "            \n",
    "    cv2.imshow('frame',frame)\n",
    "    if cv2.waitKey(1) & 0xFF == ord('q'): #press q to quit webcam\n",
    "        break\n",
    "        \n",
    "\n",
    "# close opencv\n",
    "video_capture.release()\n",
    "cv2.destroyAllWindows()"
   ]
  }
 ],
 "metadata": {
  "kernelspec": {
   "display_name": "Python 3",
   "language": "python",
   "name": "python3"
  },
  "language_info": {
   "codemirror_mode": {
    "name": "ipython",
    "version": 3
   },
   "file_extension": ".py",
   "mimetype": "text/x-python",
   "name": "python",
   "nbconvert_exporter": "python",
   "pygments_lexer": "ipython3",
   "version": "3.8.10"
  }
 },
 "nbformat": 4,
 "nbformat_minor": 4
}
