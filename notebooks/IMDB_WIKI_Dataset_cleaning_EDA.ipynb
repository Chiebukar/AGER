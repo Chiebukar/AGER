{
  "nbformat": 4,
  "nbformat_minor": 0,
  "metadata": {
    "colab": {
      "name": "IMDB-WIKI_Dataset_cleaning_EDA.ipynb",
      "provenance": [],
      "collapsed_sections": [],
      "machine_shape": "hm"
    },
    "kernelspec": {
      "display_name": "Python 3",
      "name": "python3"
    }
  },
  "cells": [
    {
      "cell_type": "code",
      "metadata": {
        "id": "7LjR2q-LCwE2"
      },
      "source": [
        "# get imdb_cropped faces dataset\n",
        "# !wget https://data.vision.ee.ethz.ch/cvl/rrothe/imdb-wiki/static/imdb_crop.tar"
      ],
      "execution_count": 1,
      "outputs": []
    },
    {
      "cell_type": "code",
      "metadata": {
        "id": "eRb1_X3iGNy_",
        "colab": {
          "base_uri": "https://localhost:8080/"
        },
        "outputId": "a0ad766d-4815-4135-c33b-e7af875a0ad0"
      },
      "source": [
        "# get imdb_cropped_faces metadata\n",
        "!wget https://data.vision.ee.ethz.ch/cvl/rrothe/imdb-wiki/static/imdb_meta.tar"
      ],
      "execution_count": 2,
      "outputs": [
        {
          "output_type": "stream",
          "text": [
            "--2021-05-08 22:15:12--  https://data.vision.ee.ethz.ch/cvl/rrothe/imdb-wiki/static/imdb_meta.tar\n",
            "Resolving data.vision.ee.ethz.ch (data.vision.ee.ethz.ch)... 129.132.52.178, 2001:67c:10ec:36c2::178\n",
            "Connecting to data.vision.ee.ethz.ch (data.vision.ee.ethz.ch)|129.132.52.178|:443... connected.\n",
            "HTTP request sent, awaiting response... 200 OK\n",
            "Length: 22937600 (22M) [application/x-tar]\n",
            "Saving to: ‘imdb_meta.tar’\n",
            "\n",
            "imdb_meta.tar       100%[===================>]  21.88M  5.74MB/s    in 3.8s    \n",
            "\n",
            "2021-05-08 22:15:17 (5.74 MB/s) - ‘imdb_meta.tar’ saved [22937600/22937600]\n",
            "\n"
          ],
          "name": "stdout"
        }
      ]
    },
    {
      "cell_type": "code",
      "metadata": {
        "id": "mQWbf0BhvYqZ",
        "colab": {
          "base_uri": "https://localhost:8080/"
        },
        "outputId": "f6e676a6-b885-4b16-e6d7-c7227a346028"
      },
      "source": [
        "# get wiki_cropped faces dataset\n",
        "!wget https://data.vision.ee.ethz.ch/cvl/rrothe/imdb-wiki/static/wiki_crop.tar"
      ],
      "execution_count": 3,
      "outputs": [
        {
          "output_type": "stream",
          "text": [
            "--2021-05-08 22:15:17--  https://data.vision.ee.ethz.ch/cvl/rrothe/imdb-wiki/static/wiki_crop.tar\n",
            "Resolving data.vision.ee.ethz.ch (data.vision.ee.ethz.ch)... 129.132.52.178, 2001:67c:10ec:36c2::178\n",
            "Connecting to data.vision.ee.ethz.ch (data.vision.ee.ethz.ch)|129.132.52.178|:443... connected.\n",
            "HTTP request sent, awaiting response... 200 OK\n",
            "Length: 811315200 (774M) [application/x-tar]\n",
            "Saving to: ‘wiki_crop.tar’\n",
            "\n",
            "wiki_crop.tar       100%[===================>] 773.73M  10.5MB/s    in 77s     \n",
            "\n",
            "2021-05-08 22:16:35 (10.1 MB/s) - ‘wiki_crop.tar’ saved [811315200/811315200]\n",
            "\n"
          ],
          "name": "stdout"
        }
      ]
    },
    {
      "cell_type": "code",
      "metadata": {
        "id": "sKRoA6I7JTFm"
      },
      "source": [
        "# extract data from .tar files\n",
        "!tar -xf imdb_meta.tar\n",
        "!tar -xf wiki_crop.tar\n",
        "#!tar -xf imdb_crop.tar"
      ],
      "execution_count": 4,
      "outputs": []
    },
    {
      "cell_type": "code",
      "metadata": {
        "colab": {
          "base_uri": "https://localhost:8080/"
        },
        "id": "W7_lcNe8MEsl",
        "outputId": "f7a43a93-4eaa-4df7-e58d-5d1f38b4c573"
      },
      "source": [
        "# show files in directory\n",
        "!ls -d $PWD/*"
      ],
      "execution_count": 5,
      "outputs": [
        {
          "output_type": "stream",
          "text": [
            "/content/imdb\t\t/content/sample_data  /content/wiki_crop.tar\n",
            "/content/imdb_meta.tar\t/content/wiki_crop\n"
          ],
          "name": "stdout"
        }
      ]
    },
    {
      "cell_type": "code",
      "metadata": {
        "id": "kSBqPchFGc76"
      },
      "source": [
        "# remove .tar files\n",
        "!rm *.tar"
      ],
      "execution_count": 6,
      "outputs": []
    },
    {
      "cell_type": "code",
      "metadata": {
        "colab": {
          "base_uri": "https://localhost:8080/"
        },
        "id": "HyF12HYQKWxw",
        "outputId": "1c123c2b-5839-41f3-cfd0-add0135cdf02"
      },
      "source": [
        "# show extracted files\n",
        "!ls -d $PWD/imdb/*"
      ],
      "execution_count": 7,
      "outputs": [
        {
          "output_type": "stream",
          "text": [
            "/content/imdb/imdb.mat\n"
          ],
          "name": "stdout"
        }
      ]
    },
    {
      "cell_type": "code",
      "metadata": {
        "id": "LUefE5-1LU0d"
      },
      "source": [
        "# import relevant libraries\n",
        "import scipy.io\n",
        "import pandas as pd\n",
        "import numpy as np\n",
        "import pandas as pd\n",
        "from keras.preprocessing import image\n",
        "import plotly.graph_objects as go\n",
        "import matplotlib.pyplot as plt\n",
        "import seaborn as sns\n",
        "from google.colab import files\n",
        "# import cv2\n",
        "# from datetime import datetime, timedelta"
      ],
      "execution_count": 8,
      "outputs": []
    },
    {
      "cell_type": "code",
      "metadata": {
        "id": "z3jb_lJRLi6r"
      },
      "source": [
        " # load extracted MATLAB files\n",
        " imdb_meta = scipy.io.loadmat('/content/imdb/imdb.mat')\n",
        " wiki_meta = scipy.io.loadmat('/content/wiki_crop/wiki.mat')"
      ],
      "execution_count": 9,
      "outputs": []
    },
    {
      "cell_type": "code",
      "metadata": {
        "id": "1AlNxiCwPhpC"
      },
      "source": [
        "# show IMDB_meta\n",
        "# imdb_meta"
      ],
      "execution_count": 10,
      "outputs": []
    },
    {
      "cell_type": "code",
      "metadata": {
        "id": "iz9pCpIV-eh1"
      },
      "source": [
        "# show WIKI_meta\n",
        "# wiki_meta"
      ],
      "execution_count": 11,
      "outputs": []
    },
    {
      "cell_type": "code",
      "metadata": {
        "id": "BAj3JPZZM6wj",
        "colab": {
          "base_uri": "https://localhost:8080/"
        },
        "outputId": "b895f448-20f7-46a3-a159-c0837cac2dac"
      },
      "source": [
        "# get length of IMDB and WIKI dataset\n",
        "len_imdb = imdb_meta['imdb'][0][0][0].shape[1]\n",
        "len_wiki = wiki_meta['wiki'][0][0][0].shape[1]\n",
        "len_imdb, len_wiki"
      ],
      "execution_count": 12,
      "outputs": [
        {
          "output_type": "execute_result",
          "data": {
            "text/plain": [
              "(460723, 62328)"
            ]
          },
          "metadata": {
            "tags": []
          },
          "execution_count": 12
        }
      ]
    },
    {
      "cell_type": "code",
      "metadata": {
        "id": "QSHYN1hERIYC"
      },
      "source": [
        "dtypes=[('dob', 'O'), ('photo_taken', 'O'), ('full_path', 'O'), ('gender', 'O'), ('name', 'O'), ('face_location', 'O'), ('face_score', 'O'), ('second_face_score', 'O'), ('celeb_names', 'O'), ('celeb_id', 'O')]"
      ],
      "execution_count": 13,
      "outputs": []
    },
    {
      "cell_type": "code",
      "metadata": {
        "id": "FYgld3V-ROnL"
      },
      "source": [
        "# get columns for dataframe\n",
        "columns = [i[0] for i in dtypes]\n",
        "#columns"
      ],
      "execution_count": 14,
      "outputs": []
    },
    {
      "cell_type": "code",
      "metadata": {
        "id": "AhxlC9mINgV6"
      },
      "source": [
        "# create IMDB and WIKI dataframes\n",
        "imdb_df = pd.DataFrame(index= range(0, len_imdb), columns= columns)\n",
        "wiki_df = pd.DataFrame(index= range(0, len_wiki), columns= columns)"
      ],
      "execution_count": 15,
      "outputs": []
    },
    {
      "cell_type": "code",
      "metadata": {
        "id": "IdOg82RHUhQk"
      },
      "source": [
        "# get data from meta files\n",
        "imdb_array = imdb_meta['imdb'][0][0]\n",
        "wiki_array = wiki_meta['wiki'][0][0]"
      ],
      "execution_count": 16,
      "outputs": []
    },
    {
      "cell_type": "code",
      "metadata": {
        "id": "cg7HFTt_UEp1"
      },
      "source": [
        "# add IMDB_meta data to dataframe\n",
        "for i, j in enumerate(imdb_array):\n",
        "  imdb_df[columns[i]] = pd.DataFrame(imdb_array[i][0])"
      ],
      "execution_count": 17,
      "outputs": []
    },
    {
      "cell_type": "code",
      "metadata": {
        "id": "8GN2qC1Nr8ss"
      },
      "source": [
        "# add IMDB_meta data to dataframe\n",
        "for i, j in enumerate(wiki_array):\n",
        "  wiki_df[columns[i]] = pd.DataFrame(wiki_array[i][0])"
      ],
      "execution_count": 18,
      "outputs": []
    },
    {
      "cell_type": "code",
      "metadata": {
        "id": "hLzT4-6FVooG"
      },
      "source": [
        "# preview imdb data\n",
        "# imdb_df.head()"
      ],
      "execution_count": 19,
      "outputs": []
    },
    {
      "cell_type": "code",
      "metadata": {
        "id": "egtxowH9tHh3"
      },
      "source": [
        "# preview wiki data\n",
        "# wiki_df.head()"
      ],
      "execution_count": 20,
      "outputs": []
    },
    {
      "cell_type": "code",
      "metadata": {
        "id": "tcxXNiB7pwpN"
      },
      "source": [
        "# function to convert datenum to datetime\n",
        "def datenum_to_datetime(datenum):\n",
        "    \"\"\"\n",
        "    Convert Matlab datenum into Python datetime.\n",
        "    :param datenum: Date in datenum format\n",
        "    :return:        Datetime object corresponding to datenum.\n",
        "    \"\"\"\n",
        "    origin = np.datetime64('0000-01-01', 'D') - np.timedelta64(1, 'D')\n",
        "    date = datenum * np.timedelta64(1, 'D') + origin\n",
        "    year = date.astype('datetime64[Y]').astype(int) + 1970\n",
        " \n",
        "    return year"
      ],
      "execution_count": 21,
      "outputs": []
    },
    {
      "cell_type": "code",
      "metadata": {
        "id": "72OWMP4BPu7L"
      },
      "source": [
        "# alternative conversion function\n",
        "# def datenum_to_datetime(datenum):\n",
        "#     \"\"\"\n",
        "#     Convert Matlab datenum into Python datetime.\n",
        "#     :param datenum: Date in datenum format\n",
        "#     :return:        Datetime object corresponding to datenum.\n",
        "#     \"\"\"\n",
        "#     date = datetime.fromordinal(int(datenum)) + timedelta(days=datenum%1) - timedelta(days = 366)\n",
        "#     year = date.year\n",
        " \n",
        "#     return year"
      ],
      "execution_count": 22,
      "outputs": []
    },
    {
      "cell_type": "code",
      "metadata": {
        "id": "TPJ9ZdZiS3Ni"
      },
      "source": [
        "# test date conversion function\n",
        "# datenum_to_datetime(600000)"
      ],
      "execution_count": 23,
      "outputs": []
    },
    {
      "cell_type": "code",
      "metadata": {
        "id": "nr8JPHhIXxqA"
      },
      "source": [
        "# convert datenum column to datetime\n",
        "imdb_df['date_of_birth'] = imdb_df['dob'].apply(datenum_to_datetime)\n",
        "wiki_df['date_of_birth'] = wiki_df['dob'].apply(datenum_to_datetime)"
      ],
      "execution_count": 24,
      "outputs": []
    },
    {
      "cell_type": "code",
      "metadata": {
        "id": "v5_xBdzgt5Ku"
      },
      "source": [
        "# show unique values in date of birth column\n",
        "# imdb_df['date of birth'].unique()"
      ],
      "execution_count": 25,
      "outputs": []
    },
    {
      "cell_type": "code",
      "metadata": {
        "id": "ew7bo-NG4-G7"
      },
      "source": [
        "# show unique values in date of birth column\n",
        "# wiki_df['date of birth'].unique()"
      ],
      "execution_count": 26,
      "outputs": []
    },
    {
      "cell_type": "code",
      "metadata": {
        "id": "E9h9fcFh4gTA"
      },
      "source": [
        "# join IMDB and WIKI datframes\n",
        "df = pd.concat([imdb_df,wiki_df], axis='rows', keys= ['imdb', 'wiki'])\n",
        "# df.head()"
      ],
      "execution_count": 27,
      "outputs": []
    },
    {
      "cell_type": "code",
      "metadata": {
        "id": "VeFYx3maKAxr"
      },
      "source": [
        "# get IMDB dataframe by key\n",
        "# df.loc['imdb']"
      ],
      "execution_count": 28,
      "outputs": []
    },
    {
      "cell_type": "code",
      "metadata": {
        "id": "TuKw6-AWNCaw"
      },
      "source": [
        "# get WIKI dataframe by key\n",
        "# df.loc['wiki']"
      ],
      "execution_count": 29,
      "outputs": []
    },
    {
      "cell_type": "code",
      "metadata": {
        "id": "8lzblWECNO1B"
      },
      "source": [
        "# create age column\n",
        "df['age'] = df['photo_taken'] - df['date_of_birth']\n",
        "# df['age'].unique()"
      ],
      "execution_count": 30,
      "outputs": []
    },
    {
      "cell_type": "markdown",
      "metadata": {
        "id": "eG9ep9U0gDAp"
      },
      "source": [
        "# Data Cleaning"
      ]
    },
    {
      "cell_type": "code",
      "metadata": {
        "id": "P2dMKWccfPlS"
      },
      "source": [
        "# show rows with illogical ages\n",
        "# df[df['age'] <0][['name','photo_taken', 'date_of_birth']].values[:10]\n",
        "# df[df['age'] >120][['name','photo_taken', 'date_of_birth']].values[:10]\n",
        "# df[df['photo_taken']< df['date_of_birth']]"
      ],
      "execution_count": 31,
      "outputs": []
    },
    {
      "cell_type": "markdown",
      "metadata": {
        "id": "FgxmiKVvj5kx"
      },
      "source": [
        "Milla Jovovich was born in 1975 while Uma Thurman was born in 1970, the pictures couldn't have been taken in 1963 and 1964 respectively which was before their births.\n",
        "\n",
        "Some other pictures appear to have been taken after the deaths of the some celebrities (which is unsual), ths could reperesnt paintings and not real faces."
      ]
    },
    {
      "cell_type": "code",
      "metadata": {
        "id": "lN0OWlgXnDxO",
        "colab": {
          "base_uri": "https://localhost:8080/"
        },
        "outputId": "d547d564-9b45-40fc-d7ad-c9b6f52cee52"
      },
      "source": [
        "# show data column names\n",
        "df.columns, len(df)"
      ],
      "execution_count": 32,
      "outputs": [
        {
          "output_type": "execute_result",
          "data": {
            "text/plain": [
              "(Index(['dob', 'photo_taken', 'full_path', 'gender', 'name', 'face_location',\n",
              "        'face_score', 'second_face_score', 'celeb_names', 'celeb_id',\n",
              "        'date_of_birth', 'age'],\n",
              "       dtype='object'), 523051)"
            ]
          },
          "metadata": {
            "tags": []
          },
          "execution_count": 32
        }
      ]
    },
    {
      "cell_type": "code",
      "metadata": {
        "id": "l-DcA2eqqoYU",
        "colab": {
          "base_uri": "https://localhost:8080/"
        },
        "outputId": "bdb9430d-9d9c-4805-8482-bad709f030e0"
      },
      "source": [
        "# remove data of pictures that are not faces\n",
        "df = df[df['face_score'] != -np.inf]\n",
        "len(df)"
      ],
      "execution_count": 33,
      "outputs": [
        {
          "output_type": "execute_result",
          "data": {
            "text/plain": [
              "442733"
            ]
          },
          "metadata": {
            "tags": []
          },
          "execution_count": 33
        }
      ]
    },
    {
      "cell_type": "code",
      "metadata": {
        "id": "kzSZIaHFs6tQ"
      },
      "source": [
        "# show  pictures that include more than one face\n",
        "# df[~df['second_face_score'].isna()]"
      ],
      "execution_count": 34,
      "outputs": []
    },
    {
      "cell_type": "code",
      "metadata": {
        "id": "ZwTDMIssrV6U",
        "colab": {
          "base_uri": "https://localhost:8080/"
        },
        "outputId": "49bd037b-d459-4745-9502-d1b8eef0ca9a"
      },
      "source": [
        "#some pictures include more than one face, remove them\n",
        "df = df[df['second_face_score'].isna()]\n",
        "len(df)"
      ],
      "execution_count": 35,
      "outputs": [
        {
          "output_type": "execute_result",
          "data": {
            "text/plain": [
              "224840"
            ]
          },
          "metadata": {
            "tags": []
          },
          "execution_count": 35
        }
      ]
    },
    {
      "cell_type": "code",
      "metadata": {
        "id": "hk3WiPqMtl7v",
        "colab": {
          "base_uri": "https://localhost:8080/"
        },
        "outputId": "8cd1b54f-dab2-47cc-b898-f7cc841dd291"
      },
      "source": [
        "# show dataframe info\n",
        "df.info()"
      ],
      "execution_count": 36,
      "outputs": [
        {
          "output_type": "stream",
          "text": [
            "<class 'pandas.core.frame.DataFrame'>\n",
            "MultiIndex: 224840 entries, ('imdb', 3) to ('wiki', 62327)\n",
            "Data columns (total 12 columns):\n",
            " #   Column             Non-Null Count   Dtype  \n",
            "---  ------             --------------   -----  \n",
            " 0   dob                224840 non-null  int32  \n",
            " 1   photo_taken        224840 non-null  uint16 \n",
            " 2   full_path          224840 non-null  object \n",
            " 3   gender             221145 non-null  float64\n",
            " 4   name               224840 non-null  object \n",
            " 5   face_location      224840 non-null  object \n",
            " 6   face_score         224840 non-null  float64\n",
            " 7   second_face_score  0 non-null       float64\n",
            " 8   celeb_names        8149 non-null    object \n",
            " 9   celeb_id           184624 non-null  object \n",
            " 10  date_of_birth      224840 non-null  int64  \n",
            " 11  age                224840 non-null  int64  \n",
            "dtypes: float64(3), int32(1), int64(2), object(5), uint16(1)\n",
            "memory usage: 43.0+ MB\n"
          ],
          "name": "stdout"
        }
      ]
    },
    {
      "cell_type": "code",
      "metadata": {
        "id": "_7fuAzerwV4O"
      },
      "source": [
        "# gender_df = df[['full_path', 'gender']]\n",
        "# gender_df.dropna(inplace=True)\n",
        "# gender_df.head()"
      ],
      "execution_count": 37,
      "outputs": []
    },
    {
      "cell_type": "code",
      "metadata": {
        "id": "xEB0ZJ-5UnZL",
        "colab": {
          "base_uri": "https://localhost:8080/"
        },
        "outputId": "8a18d8c2-0994-4691-9625-fb83eef4397f"
      },
      "source": [
        "# remove illogical ages from dataframe\n",
        "df = df[(df.age >= 1) & (df.age <= 100)]\n",
        "len(df)"
      ],
      "execution_count": 38,
      "outputs": [
        {
          "output_type": "execute_result",
          "data": {
            "text/plain": [
              "224562"
            ]
          },
          "metadata": {
            "tags": []
          },
          "execution_count": 38
        }
      ]
    },
    {
      "cell_type": "code",
      "metadata": {
        "id": "zmay5bwmeOus"
      },
      "source": [
        "# drop irrelevant columns\n",
        "df = df[['full_path', 'age', 'gender']]\n",
        "# df.isna().sum()"
      ],
      "execution_count": 39,
      "outputs": []
    },
    {
      "cell_type": "code",
      "metadata": {
        "id": "CeSzOUHAHTEz"
      },
      "source": [
        "# preview dataframe\n",
        "# df.head(3)"
      ],
      "execution_count": 40,
      "outputs": []
    },
    {
      "cell_type": "code",
      "metadata": {
        "id": "gcadAP64HfYE"
      },
      "source": [
        "# check for null values\n",
        "# df.isna().sum()"
      ],
      "execution_count": 41,
      "outputs": []
    },
    {
      "cell_type": "code",
      "metadata": {
        "id": "Mty9n_jDBWRi"
      },
      "source": [
        "# drop rows with null values\n",
        "df = df.dropna()  "
      ],
      "execution_count": 42,
      "outputs": []
    },
    {
      "cell_type": "markdown",
      "metadata": {
        "id": "PnQPOTsTgN-K"
      },
      "source": [
        "# Exploratary Data Analysis"
      ]
    },
    {
      "cell_type": "code",
      "metadata": {
        "id": "6KnBw1R3fZOY"
      },
      "source": [
        "# define gender label dictionary \n",
        "gender_dict = {0: 'female', 1: 'male'}"
      ],
      "execution_count": 43,
      "outputs": []
    },
    {
      "cell_type": "code",
      "metadata": {
        "id": "nij_MqP8iSQW",
        "colab": {
          "base_uri": "https://localhost:8080/",
          "height": 106
        },
        "outputId": "45200cdd-808d-4eb1-b115-ba7bb68c0e71"
      },
      "source": [
        "# show geder count\n",
        "gender_count = pd.DataFrame(df['gender'].value_counts()).rename(index=gender_dict, columns= {'gender':'Num_values'})\n",
        "gender_count"
      ],
      "execution_count": 44,
      "outputs": [
        {
          "output_type": "execute_result",
          "data": {
            "text/html": [
              "<div>\n",
              "<style scoped>\n",
              "    .dataframe tbody tr th:only-of-type {\n",
              "        vertical-align: middle;\n",
              "    }\n",
              "\n",
              "    .dataframe tbody tr th {\n",
              "        vertical-align: top;\n",
              "    }\n",
              "\n",
              "    .dataframe thead th {\n",
              "        text-align: right;\n",
              "    }\n",
              "</style>\n",
              "<table border=\"1\" class=\"dataframe\">\n",
              "  <thead>\n",
              "    <tr style=\"text-align: right;\">\n",
              "      <th></th>\n",
              "      <th>Num_values</th>\n",
              "    </tr>\n",
              "  </thead>\n",
              "  <tbody>\n",
              "    <tr>\n",
              "      <th>male</th>\n",
              "      <td>129593</td>\n",
              "    </tr>\n",
              "    <tr>\n",
              "      <th>female</th>\n",
              "      <td>91277</td>\n",
              "    </tr>\n",
              "  </tbody>\n",
              "</table>\n",
              "</div>"
            ],
            "text/plain": [
              "        Num_values\n",
              "male        129593\n",
              "female       91277"
            ]
          },
          "metadata": {
            "tags": []
          },
          "execution_count": 44
        }
      ]
    },
    {
      "cell_type": "code",
      "metadata": {
        "id": "bC7ulrD4iu8M",
        "colab": {
          "base_uri": "https://localhost:8080/",
          "height": 542
        },
        "outputId": "921dbaa0-5c85-4307-9155-ef26a36a646f"
      },
      "source": [
        "# plot pie plot of gender distribution\n",
        "pie_plot = go.Pie(labels= gender_count.index.to_list(), values=gender_count.values.flatten(), \n",
        "                  hole=0.3, text= gender_count.index.to_list(),textposition= 'auto')\n",
        "fig = go.Figure(data=[pie_plot])\n",
        "fig.update_layout(title_text='Pie Plot of Gender Distribution')\n",
        "fig.show()"
      ],
      "execution_count": 45,
      "outputs": [
        {
          "output_type": "display_data",
          "data": {
            "text/html": [
              "<html>\n",
              "<head><meta charset=\"utf-8\" /></head>\n",
              "<body>\n",
              "    <div>\n",
              "            <script src=\"https://cdnjs.cloudflare.com/ajax/libs/mathjax/2.7.5/MathJax.js?config=TeX-AMS-MML_SVG\"></script><script type=\"text/javascript\">if (window.MathJax) {MathJax.Hub.Config({SVG: {font: \"STIX-Web\"}});}</script>\n",
              "                <script type=\"text/javascript\">window.PlotlyConfig = {MathJaxConfig: 'local'};</script>\n",
              "        <script src=\"https://cdn.plot.ly/plotly-latest.min.js\"></script>    \n",
              "            <div id=\"6ca25878-b9d5-47f8-bdf8-57a9cecc642f\" class=\"plotly-graph-div\" style=\"height:525px; width:100%;\"></div>\n",
              "            <script type=\"text/javascript\">\n",
              "                \n",
              "                    window.PLOTLYENV=window.PLOTLYENV || {};\n",
              "                    \n",
              "                if (document.getElementById(\"6ca25878-b9d5-47f8-bdf8-57a9cecc642f\")) {\n",
              "                    Plotly.newPlot(\n",
              "                        '6ca25878-b9d5-47f8-bdf8-57a9cecc642f',\n",
              "                        [{\"hole\": 0.3, \"labels\": [\"male\", \"female\"], \"text\": [\"male\", \"female\"], \"textposition\": \"auto\", \"type\": \"pie\", \"values\": [129593, 91277]}],\n",
              "                        {\"template\": {\"data\": {\"bar\": [{\"error_x\": {\"color\": \"#2a3f5f\"}, \"error_y\": {\"color\": \"#2a3f5f\"}, \"marker\": {\"line\": {\"color\": \"#E5ECF6\", \"width\": 0.5}}, \"type\": \"bar\"}], \"barpolar\": [{\"marker\": {\"line\": {\"color\": \"#E5ECF6\", \"width\": 0.5}}, \"type\": \"barpolar\"}], \"carpet\": [{\"aaxis\": {\"endlinecolor\": \"#2a3f5f\", \"gridcolor\": \"white\", \"linecolor\": \"white\", \"minorgridcolor\": \"white\", \"startlinecolor\": \"#2a3f5f\"}, \"baxis\": {\"endlinecolor\": \"#2a3f5f\", \"gridcolor\": \"white\", \"linecolor\": \"white\", \"minorgridcolor\": \"white\", \"startlinecolor\": \"#2a3f5f\"}, \"type\": \"carpet\"}], \"choropleth\": [{\"colorbar\": {\"outlinewidth\": 0, \"ticks\": \"\"}, \"type\": \"choropleth\"}], \"contour\": [{\"colorbar\": {\"outlinewidth\": 0, \"ticks\": \"\"}, \"colorscale\": [[0.0, \"#0d0887\"], [0.1111111111111111, \"#46039f\"], [0.2222222222222222, \"#7201a8\"], [0.3333333333333333, \"#9c179e\"], [0.4444444444444444, \"#bd3786\"], [0.5555555555555556, \"#d8576b\"], [0.6666666666666666, \"#ed7953\"], [0.7777777777777778, \"#fb9f3a\"], [0.8888888888888888, \"#fdca26\"], [1.0, \"#f0f921\"]], \"type\": \"contour\"}], \"contourcarpet\": [{\"colorbar\": {\"outlinewidth\": 0, \"ticks\": \"\"}, \"type\": \"contourcarpet\"}], \"heatmap\": [{\"colorbar\": {\"outlinewidth\": 0, \"ticks\": \"\"}, \"colorscale\": [[0.0, \"#0d0887\"], [0.1111111111111111, \"#46039f\"], [0.2222222222222222, \"#7201a8\"], [0.3333333333333333, \"#9c179e\"], [0.4444444444444444, \"#bd3786\"], [0.5555555555555556, \"#d8576b\"], [0.6666666666666666, \"#ed7953\"], [0.7777777777777778, \"#fb9f3a\"], [0.8888888888888888, \"#fdca26\"], [1.0, \"#f0f921\"]], \"type\": \"heatmap\"}], \"heatmapgl\": [{\"colorbar\": {\"outlinewidth\": 0, \"ticks\": \"\"}, \"colorscale\": [[0.0, \"#0d0887\"], [0.1111111111111111, \"#46039f\"], [0.2222222222222222, \"#7201a8\"], [0.3333333333333333, \"#9c179e\"], [0.4444444444444444, \"#bd3786\"], [0.5555555555555556, \"#d8576b\"], [0.6666666666666666, \"#ed7953\"], [0.7777777777777778, \"#fb9f3a\"], [0.8888888888888888, \"#fdca26\"], [1.0, \"#f0f921\"]], \"type\": \"heatmapgl\"}], \"histogram\": [{\"marker\": {\"colorbar\": {\"outlinewidth\": 0, \"ticks\": \"\"}}, \"type\": \"histogram\"}], \"histogram2d\": [{\"colorbar\": {\"outlinewidth\": 0, \"ticks\": \"\"}, \"colorscale\": [[0.0, \"#0d0887\"], [0.1111111111111111, \"#46039f\"], [0.2222222222222222, \"#7201a8\"], [0.3333333333333333, \"#9c179e\"], [0.4444444444444444, \"#bd3786\"], [0.5555555555555556, \"#d8576b\"], [0.6666666666666666, \"#ed7953\"], [0.7777777777777778, \"#fb9f3a\"], [0.8888888888888888, \"#fdca26\"], [1.0, \"#f0f921\"]], \"type\": \"histogram2d\"}], \"histogram2dcontour\": [{\"colorbar\": {\"outlinewidth\": 0, \"ticks\": \"\"}, \"colorscale\": [[0.0, \"#0d0887\"], [0.1111111111111111, \"#46039f\"], [0.2222222222222222, \"#7201a8\"], [0.3333333333333333, \"#9c179e\"], [0.4444444444444444, \"#bd3786\"], [0.5555555555555556, \"#d8576b\"], [0.6666666666666666, \"#ed7953\"], [0.7777777777777778, \"#fb9f3a\"], [0.8888888888888888, \"#fdca26\"], [1.0, \"#f0f921\"]], \"type\": \"histogram2dcontour\"}], \"mesh3d\": [{\"colorbar\": {\"outlinewidth\": 0, \"ticks\": \"\"}, \"type\": \"mesh3d\"}], \"parcoords\": [{\"line\": {\"colorbar\": {\"outlinewidth\": 0, \"ticks\": \"\"}}, \"type\": \"parcoords\"}], \"pie\": [{\"automargin\": true, \"type\": \"pie\"}], \"scatter\": [{\"marker\": {\"colorbar\": {\"outlinewidth\": 0, \"ticks\": \"\"}}, \"type\": \"scatter\"}], \"scatter3d\": [{\"line\": {\"colorbar\": {\"outlinewidth\": 0, \"ticks\": \"\"}}, \"marker\": {\"colorbar\": {\"outlinewidth\": 0, \"ticks\": \"\"}}, \"type\": \"scatter3d\"}], \"scattercarpet\": [{\"marker\": {\"colorbar\": {\"outlinewidth\": 0, \"ticks\": \"\"}}, \"type\": \"scattercarpet\"}], \"scattergeo\": [{\"marker\": {\"colorbar\": {\"outlinewidth\": 0, \"ticks\": \"\"}}, \"type\": \"scattergeo\"}], \"scattergl\": [{\"marker\": {\"colorbar\": {\"outlinewidth\": 0, \"ticks\": \"\"}}, \"type\": \"scattergl\"}], \"scattermapbox\": [{\"marker\": {\"colorbar\": {\"outlinewidth\": 0, \"ticks\": \"\"}}, \"type\": \"scattermapbox\"}], \"scatterpolar\": [{\"marker\": {\"colorbar\": {\"outlinewidth\": 0, \"ticks\": \"\"}}, \"type\": \"scatterpolar\"}], \"scatterpolargl\": [{\"marker\": {\"colorbar\": {\"outlinewidth\": 0, \"ticks\": \"\"}}, \"type\": \"scatterpolargl\"}], \"scatterternary\": [{\"marker\": {\"colorbar\": {\"outlinewidth\": 0, \"ticks\": \"\"}}, \"type\": \"scatterternary\"}], \"surface\": [{\"colorbar\": {\"outlinewidth\": 0, \"ticks\": \"\"}, \"colorscale\": [[0.0, \"#0d0887\"], [0.1111111111111111, \"#46039f\"], [0.2222222222222222, \"#7201a8\"], [0.3333333333333333, \"#9c179e\"], [0.4444444444444444, \"#bd3786\"], [0.5555555555555556, \"#d8576b\"], [0.6666666666666666, \"#ed7953\"], [0.7777777777777778, \"#fb9f3a\"], [0.8888888888888888, \"#fdca26\"], [1.0, \"#f0f921\"]], \"type\": \"surface\"}], \"table\": [{\"cells\": {\"fill\": {\"color\": \"#EBF0F8\"}, \"line\": {\"color\": \"white\"}}, \"header\": {\"fill\": {\"color\": \"#C8D4E3\"}, \"line\": {\"color\": \"white\"}}, \"type\": \"table\"}]}, \"layout\": {\"annotationdefaults\": {\"arrowcolor\": \"#2a3f5f\", \"arrowhead\": 0, \"arrowwidth\": 1}, \"coloraxis\": {\"colorbar\": {\"outlinewidth\": 0, \"ticks\": \"\"}}, \"colorscale\": {\"diverging\": [[0, \"#8e0152\"], [0.1, \"#c51b7d\"], [0.2, \"#de77ae\"], [0.3, \"#f1b6da\"], [0.4, \"#fde0ef\"], [0.5, \"#f7f7f7\"], [0.6, \"#e6f5d0\"], [0.7, \"#b8e186\"], [0.8, \"#7fbc41\"], [0.9, \"#4d9221\"], [1, \"#276419\"]], \"sequential\": [[0.0, \"#0d0887\"], [0.1111111111111111, \"#46039f\"], [0.2222222222222222, \"#7201a8\"], [0.3333333333333333, \"#9c179e\"], [0.4444444444444444, \"#bd3786\"], [0.5555555555555556, \"#d8576b\"], [0.6666666666666666, \"#ed7953\"], [0.7777777777777778, \"#fb9f3a\"], [0.8888888888888888, \"#fdca26\"], [1.0, \"#f0f921\"]], \"sequentialminus\": [[0.0, \"#0d0887\"], [0.1111111111111111, \"#46039f\"], [0.2222222222222222, \"#7201a8\"], [0.3333333333333333, \"#9c179e\"], [0.4444444444444444, \"#bd3786\"], [0.5555555555555556, \"#d8576b\"], [0.6666666666666666, \"#ed7953\"], [0.7777777777777778, \"#fb9f3a\"], [0.8888888888888888, \"#fdca26\"], [1.0, \"#f0f921\"]]}, \"colorway\": [\"#636efa\", \"#EF553B\", \"#00cc96\", \"#ab63fa\", \"#FFA15A\", \"#19d3f3\", \"#FF6692\", \"#B6E880\", \"#FF97FF\", \"#FECB52\"], \"font\": {\"color\": \"#2a3f5f\"}, \"geo\": {\"bgcolor\": \"white\", \"lakecolor\": \"white\", \"landcolor\": \"#E5ECF6\", \"showlakes\": true, \"showland\": true, \"subunitcolor\": \"white\"}, \"hoverlabel\": {\"align\": \"left\"}, \"hovermode\": \"closest\", \"mapbox\": {\"style\": \"light\"}, \"paper_bgcolor\": \"white\", \"plot_bgcolor\": \"#E5ECF6\", \"polar\": {\"angularaxis\": {\"gridcolor\": \"white\", \"linecolor\": \"white\", \"ticks\": \"\"}, \"bgcolor\": \"#E5ECF6\", \"radialaxis\": {\"gridcolor\": \"white\", \"linecolor\": \"white\", \"ticks\": \"\"}}, \"scene\": {\"xaxis\": {\"backgroundcolor\": \"#E5ECF6\", \"gridcolor\": \"white\", \"gridwidth\": 2, \"linecolor\": \"white\", \"showbackground\": true, \"ticks\": \"\", \"zerolinecolor\": \"white\"}, \"yaxis\": {\"backgroundcolor\": \"#E5ECF6\", \"gridcolor\": \"white\", \"gridwidth\": 2, \"linecolor\": \"white\", \"showbackground\": true, \"ticks\": \"\", \"zerolinecolor\": \"white\"}, \"zaxis\": {\"backgroundcolor\": \"#E5ECF6\", \"gridcolor\": \"white\", \"gridwidth\": 2, \"linecolor\": \"white\", \"showbackground\": true, \"ticks\": \"\", \"zerolinecolor\": \"white\"}}, \"shapedefaults\": {\"line\": {\"color\": \"#2a3f5f\"}}, \"ternary\": {\"aaxis\": {\"gridcolor\": \"white\", \"linecolor\": \"white\", \"ticks\": \"\"}, \"baxis\": {\"gridcolor\": \"white\", \"linecolor\": \"white\", \"ticks\": \"\"}, \"bgcolor\": \"#E5ECF6\", \"caxis\": {\"gridcolor\": \"white\", \"linecolor\": \"white\", \"ticks\": \"\"}}, \"title\": {\"x\": 0.05}, \"xaxis\": {\"automargin\": true, \"gridcolor\": \"white\", \"linecolor\": \"white\", \"ticks\": \"\", \"title\": {\"standoff\": 15}, \"zerolinecolor\": \"white\", \"zerolinewidth\": 2}, \"yaxis\": {\"automargin\": true, \"gridcolor\": \"white\", \"linecolor\": \"white\", \"ticks\": \"\", \"title\": {\"standoff\": 15}, \"zerolinecolor\": \"white\", \"zerolinewidth\": 2}}}, \"title\": {\"text\": \"Pie Plot of Gender Distribution\"}},\n",
              "                        {\"responsive\": true}\n",
              "                    ).then(function(){\n",
              "                            \n",
              "var gd = document.getElementById('6ca25878-b9d5-47f8-bdf8-57a9cecc642f');\n",
              "var x = new MutationObserver(function (mutations, observer) {{\n",
              "        var display = window.getComputedStyle(gd).display;\n",
              "        if (!display || display === 'none') {{\n",
              "            console.log([gd, 'removed!']);\n",
              "            Plotly.purge(gd);\n",
              "            observer.disconnect();\n",
              "        }}\n",
              "}});\n",
              "\n",
              "// Listen for the removal of the full notebook cells\n",
              "var notebookContainer = gd.closest('#notebook-container');\n",
              "if (notebookContainer) {{\n",
              "    x.observe(notebookContainer, {childList: true});\n",
              "}}\n",
              "\n",
              "// Listen for the clearing of the current output cell\n",
              "var outputEl = gd.closest('.output');\n",
              "if (outputEl) {{\n",
              "    x.observe(outputEl, {childList: true});\n",
              "}}\n",
              "\n",
              "                        })\n",
              "                };\n",
              "                \n",
              "            </script>\n",
              "        </div>\n",
              "</body>\n",
              "</html>"
            ]
          },
          "metadata": {
            "tags": []
          }
        }
      ]
    },
    {
      "cell_type": "code",
      "metadata": {
        "id": "p9s7QZA4jNdB",
        "colab": {
          "base_uri": "https://localhost:8080/",
          "height": 304
        },
        "outputId": "afbd2198-b0d1-4fcd-985e-afdc3f60a13e"
      },
      "source": [
        "# plot chart of age distribuion\n",
        "plt.figure(figsize =(15,4))\n",
        "\n",
        "sns.countplot(x= 'age', data= df)\n",
        "plt.title('Age Distribution')\n",
        "plt.xticks(rotation=90)\n",
        "plt.grid(True)\n",
        "plt.show()"
      ],
      "execution_count": 46,
      "outputs": [
        {
          "output_type": "display_data",
          "data": {
            "image/png": "[encoded data removed]",
            "text/plain": [
              "<Figure size 1080x288 with 1 Axes>"
            ]
          },
          "metadata": {
            "tags": [],
            "needs_background": "light"
          }
        }
      ]
    },
    {
      "cell_type": "markdown",
      "metadata": {
        "id": "s5F6mU263pp2"
      },
      "source": [
        "The gender distribution seems fairly balanced"
      ]
    },
    {
      "cell_type": "code",
      "metadata": {
        "id": "PFNHlEe5nSYh",
        "colab": {
          "base_uri": "https://localhost:8080/"
        },
        "outputId": "b6d4954e-fa55-4743-9ea6-f52345265f27"
      },
      "source": [
        "# define bins for ages\n",
        "bins = [0, 10, 20, 30, 40, 60, 80, 90, np.inf]\n",
        "names = ['<10', '10-20', '20-30', '30-40', '40-60', '60-80', '80', '90+']\n",
        "\n",
        "# get bins for ages\n",
        "age_binned = pd.cut(df['age'], bins, labels=names)\n",
        "age_binned.head()"
      ],
      "execution_count": 47,
      "outputs": [
        {
          "output_type": "execute_result",
          "data": {
            "text/plain": [
              "imdb  3     60-80\n",
              "      4     60-80\n",
              "      6     60-80\n",
              "      7     60-80\n",
              "      12    40-60\n",
              "Name: age, dtype: category\n",
              "Categories (8, object): ['<10' < '10-20' < '20-30' < '30-40' < '40-60' < '60-80' < '80' < '90+']"
            ]
          },
          "metadata": {
            "tags": []
          },
          "execution_count": 47
        }
      ]
    },
    {
      "cell_type": "code",
      "metadata": {
        "id": "F9pKCH-BnT4J"
      },
      "source": [
        "# get labels of bins\n",
        "bin_labels = age_binned.value_counts().index.to_list()\n",
        "\n",
        "# get counts of bins\n",
        "bin_counts = age_binned.value_counts().values"
      ],
      "execution_count": 48,
      "outputs": []
    },
    {
      "cell_type": "code",
      "metadata": {
        "id": "FTRfTX0Znc4e",
        "colab": {
          "base_uri": "https://localhost:8080/",
          "height": 542
        },
        "outputId": "2c9b2fed-7208-4ae1-c189-9ef056396b20"
      },
      "source": [
        "# plot distribution for binned ages\n",
        "plot = go.Bar(x=bin_labels, y=bin_counts)\n",
        "fig = go.Figure(data=[plot])\n",
        "fig.update_layout(title_text='Binned Age Distribution', xaxis={'categoryorder':'array', 'categoryarray':names})"
      ],
      "execution_count": 49,
      "outputs": [
        {
          "output_type": "display_data",
          "data": {
            "text/html": [
              "<html>\n",
              "<head><meta charset=\"utf-8\" /></head>\n",
              "<body>\n",
              "    <div>\n",
              "            <script src=\"https://cdnjs.cloudflare.com/ajax/libs/mathjax/2.7.5/MathJax.js?config=TeX-AMS-MML_SVG\"></script><script type=\"text/javascript\">if (window.MathJax) {MathJax.Hub.Config({SVG: {font: \"STIX-Web\"}});}</script>\n",
              "                <script type=\"text/javascript\">window.PlotlyConfig = {MathJaxConfig: 'local'};</script>\n",
              "        <script src=\"https://cdn.plot.ly/plotly-latest.min.js\"></script>    \n",
              "            <div id=\"f675e707-e647-488b-aaa6-6a2749f79f72\" class=\"plotly-graph-div\" style=\"height:525px; width:100%;\"></div>\n",
              "            <script type=\"text/javascript\">\n",
              "                \n",
              "                    window.PLOTLYENV=window.PLOTLYENV || {};\n",
              "                    \n",
              "                if (document.getElementById(\"f675e707-e647-488b-aaa6-6a2749f79f72\")) {\n",
              "                    Plotly.newPlot(\n",
              "                        'f675e707-e647-488b-aaa6-6a2749f79f72',\n",
              "                        [{\"type\": \"bar\", \"x\": [\"30-40\", \"20-30\", \"40-60\", \"10-20\", \"60-80\", \"<10\", \"80\", \"90+\"], \"y\": [67353, 61368, 61159, 14668, 13769, 1189, 1164, 200]}],\n",
              "                        {\"template\": {\"data\": {\"bar\": [{\"error_x\": {\"color\": \"#2a3f5f\"}, \"error_y\": {\"color\": \"#2a3f5f\"}, \"marker\": {\"line\": {\"color\": \"#E5ECF6\", \"width\": 0.5}}, \"type\": \"bar\"}], \"barpolar\": [{\"marker\": {\"line\": {\"color\": \"#E5ECF6\", \"width\": 0.5}}, \"type\": \"barpolar\"}], \"carpet\": [{\"aaxis\": {\"endlinecolor\": \"#2a3f5f\", \"gridcolor\": \"white\", \"linecolor\": \"white\", \"minorgridcolor\": \"white\", \"startlinecolor\": \"#2a3f5f\"}, \"baxis\": {\"endlinecolor\": \"#2a3f5f\", \"gridcolor\": \"white\", \"linecolor\": \"white\", \"minorgridcolor\": \"white\", \"startlinecolor\": \"#2a3f5f\"}, \"type\": \"carpet\"}], \"choropleth\": [{\"colorbar\": {\"outlinewidth\": 0, \"ticks\": \"\"}, \"type\": \"choropleth\"}], \"contour\": [{\"colorbar\": {\"outlinewidth\": 0, \"ticks\": \"\"}, \"colorscale\": [[0.0, \"#0d0887\"], [0.1111111111111111, \"#46039f\"], [0.2222222222222222, \"#7201a8\"], [0.3333333333333333, \"#9c179e\"], [0.4444444444444444, \"#bd3786\"], [0.5555555555555556, \"#d8576b\"], [0.6666666666666666, \"#ed7953\"], [0.7777777777777778, \"#fb9f3a\"], [0.8888888888888888, \"#fdca26\"], [1.0, \"#f0f921\"]], \"type\": \"contour\"}], \"contourcarpet\": [{\"colorbar\": {\"outlinewidth\": 0, \"ticks\": \"\"}, \"type\": \"contourcarpet\"}], \"heatmap\": [{\"colorbar\": {\"outlinewidth\": 0, \"ticks\": \"\"}, \"colorscale\": [[0.0, \"#0d0887\"], [0.1111111111111111, \"#46039f\"], [0.2222222222222222, \"#7201a8\"], [0.3333333333333333, \"#9c179e\"], [0.4444444444444444, \"#bd3786\"], [0.5555555555555556, \"#d8576b\"], [0.6666666666666666, \"#ed7953\"], [0.7777777777777778, \"#fb9f3a\"], [0.8888888888888888, \"#fdca26\"], [1.0, \"#f0f921\"]], \"type\": \"heatmap\"}], \"heatmapgl\": [{\"colorbar\": {\"outlinewidth\": 0, \"ticks\": \"\"}, \"colorscale\": [[0.0, \"#0d0887\"], [0.1111111111111111, \"#46039f\"], [0.2222222222222222, \"#7201a8\"], [0.3333333333333333, \"#9c179e\"], [0.4444444444444444, \"#bd3786\"], [0.5555555555555556, \"#d8576b\"], [0.6666666666666666, \"#ed7953\"], [0.7777777777777778, \"#fb9f3a\"], [0.8888888888888888, \"#fdca26\"], [1.0, \"#f0f921\"]], \"type\": \"heatmapgl\"}], \"histogram\": [{\"marker\": {\"colorbar\": {\"outlinewidth\": 0, \"ticks\": \"\"}}, \"type\": \"histogram\"}], \"histogram2d\": [{\"colorbar\": {\"outlinewidth\": 0, \"ticks\": \"\"}, \"colorscale\": [[0.0, \"#0d0887\"], [0.1111111111111111, \"#46039f\"], [0.2222222222222222, \"#7201a8\"], [0.3333333333333333, \"#9c179e\"], [0.4444444444444444, \"#bd3786\"], [0.5555555555555556, \"#d8576b\"], [0.6666666666666666, \"#ed7953\"], [0.7777777777777778, \"#fb9f3a\"], [0.8888888888888888, \"#fdca26\"], [1.0, \"#f0f921\"]], \"type\": \"histogram2d\"}], \"histogram2dcontour\": [{\"colorbar\": {\"outlinewidth\": 0, \"ticks\": \"\"}, \"colorscale\": [[0.0, \"#0d0887\"], [0.1111111111111111, \"#46039f\"], [0.2222222222222222, \"#7201a8\"], [0.3333333333333333, \"#9c179e\"], [0.4444444444444444, \"#bd3786\"], [0.5555555555555556, \"#d8576b\"], [0.6666666666666666, \"#ed7953\"], [0.7777777777777778, \"#fb9f3a\"], [0.8888888888888888, \"#fdca26\"], [1.0, \"#f0f921\"]], \"type\": \"histogram2dcontour\"}], \"mesh3d\": [{\"colorbar\": {\"outlinewidth\": 0, \"ticks\": \"\"}, \"type\": \"mesh3d\"}], \"parcoords\": [{\"line\": {\"colorbar\": {\"outlinewidth\": 0, \"ticks\": \"\"}}, \"type\": \"parcoords\"}], \"pie\": [{\"automargin\": true, \"type\": \"pie\"}], \"scatter\": [{\"marker\": {\"colorbar\": {\"outlinewidth\": 0, \"ticks\": \"\"}}, \"type\": \"scatter\"}], \"scatter3d\": [{\"line\": {\"colorbar\": {\"outlinewidth\": 0, \"ticks\": \"\"}}, \"marker\": {\"colorbar\": {\"outlinewidth\": 0, \"ticks\": \"\"}}, \"type\": \"scatter3d\"}], \"scattercarpet\": [{\"marker\": {\"colorbar\": {\"outlinewidth\": 0, \"ticks\": \"\"}}, \"type\": \"scattercarpet\"}], \"scattergeo\": [{\"marker\": {\"colorbar\": {\"outlinewidth\": 0, \"ticks\": \"\"}}, \"type\": \"scattergeo\"}], \"scattergl\": [{\"marker\": {\"colorbar\": {\"outlinewidth\": 0, \"ticks\": \"\"}}, \"type\": \"scattergl\"}], \"scattermapbox\": [{\"marker\": {\"colorbar\": {\"outlinewidth\": 0, \"ticks\": \"\"}}, \"type\": \"scattermapbox\"}], \"scatterpolar\": [{\"marker\": {\"colorbar\": {\"outlinewidth\": 0, \"ticks\": \"\"}}, \"type\": \"scatterpolar\"}], \"scatterpolargl\": [{\"marker\": {\"colorbar\": {\"outlinewidth\": 0, \"ticks\": \"\"}}, \"type\": \"scatterpolargl\"}], \"scatterternary\": [{\"marker\": {\"colorbar\": {\"outlinewidth\": 0, \"ticks\": \"\"}}, \"type\": \"scatterternary\"}], \"surface\": [{\"colorbar\": {\"outlinewidth\": 0, \"ticks\": \"\"}, \"colorscale\": [[0.0, \"#0d0887\"], [0.1111111111111111, \"#46039f\"], [0.2222222222222222, \"#7201a8\"], [0.3333333333333333, \"#9c179e\"], [0.4444444444444444, \"#bd3786\"], [0.5555555555555556, \"#d8576b\"], [0.6666666666666666, \"#ed7953\"], [0.7777777777777778, \"#fb9f3a\"], [0.8888888888888888, \"#fdca26\"], [1.0, \"#f0f921\"]], \"type\": \"surface\"}], \"table\": [{\"cells\": {\"fill\": {\"color\": \"#EBF0F8\"}, \"line\": {\"color\": \"white\"}}, \"header\": {\"fill\": {\"color\": \"#C8D4E3\"}, \"line\": {\"color\": \"white\"}}, \"type\": \"table\"}]}, \"layout\": {\"annotationdefaults\": {\"arrowcolor\": \"#2a3f5f\", \"arrowhead\": 0, \"arrowwidth\": 1}, \"coloraxis\": {\"colorbar\": {\"outlinewidth\": 0, \"ticks\": \"\"}}, \"colorscale\": {\"diverging\": [[0, \"#8e0152\"], [0.1, \"#c51b7d\"], [0.2, \"#de77ae\"], [0.3, \"#f1b6da\"], [0.4, \"#fde0ef\"], [0.5, \"#f7f7f7\"], [0.6, \"#e6f5d0\"], [0.7, \"#b8e186\"], [0.8, \"#7fbc41\"], [0.9, \"#4d9221\"], [1, \"#276419\"]], \"sequential\": [[0.0, \"#0d0887\"], [0.1111111111111111, \"#46039f\"], [0.2222222222222222, \"#7201a8\"], [0.3333333333333333, \"#9c179e\"], [0.4444444444444444, \"#bd3786\"], [0.5555555555555556, \"#d8576b\"], [0.6666666666666666, \"#ed7953\"], [0.7777777777777778, \"#fb9f3a\"], [0.8888888888888888, \"#fdca26\"], [1.0, \"#f0f921\"]], \"sequentialminus\": [[0.0, \"#0d0887\"], [0.1111111111111111, \"#46039f\"], [0.2222222222222222, \"#7201a8\"], [0.3333333333333333, \"#9c179e\"], [0.4444444444444444, \"#bd3786\"], [0.5555555555555556, \"#d8576b\"], [0.6666666666666666, \"#ed7953\"], [0.7777777777777778, \"#fb9f3a\"], [0.8888888888888888, \"#fdca26\"], [1.0, \"#f0f921\"]]}, \"colorway\": [\"#636efa\", \"#EF553B\", \"#00cc96\", \"#ab63fa\", \"#FFA15A\", \"#19d3f3\", \"#FF6692\", \"#B6E880\", \"#FF97FF\", \"#FECB52\"], \"font\": {\"color\": \"#2a3f5f\"}, \"geo\": {\"bgcolor\": \"white\", \"lakecolor\": \"white\", \"landcolor\": \"#E5ECF6\", \"showlakes\": true, \"showland\": true, \"subunitcolor\": \"white\"}, \"hoverlabel\": {\"align\": \"left\"}, \"hovermode\": \"closest\", \"mapbox\": {\"style\": \"light\"}, \"paper_bgcolor\": \"white\", \"plot_bgcolor\": \"#E5ECF6\", \"polar\": {\"angularaxis\": {\"gridcolor\": \"white\", \"linecolor\": \"white\", \"ticks\": \"\"}, \"bgcolor\": \"#E5ECF6\", \"radialaxis\": {\"gridcolor\": \"white\", \"linecolor\": \"white\", \"ticks\": \"\"}}, \"scene\": {\"xaxis\": {\"backgroundcolor\": \"#E5ECF6\", \"gridcolor\": \"white\", \"gridwidth\": 2, \"linecolor\": \"white\", \"showbackground\": true, \"ticks\": \"\", \"zerolinecolor\": \"white\"}, \"yaxis\": {\"backgroundcolor\": \"#E5ECF6\", \"gridcolor\": \"white\", \"gridwidth\": 2, \"linecolor\": \"white\", \"showbackground\": true, \"ticks\": \"\", \"zerolinecolor\": \"white\"}, \"zaxis\": {\"backgroundcolor\": \"#E5ECF6\", \"gridcolor\": \"white\", \"gridwidth\": 2, \"linecolor\": \"white\", \"showbackground\": true, \"ticks\": \"\", \"zerolinecolor\": \"white\"}}, \"shapedefaults\": {\"line\": {\"color\": \"#2a3f5f\"}}, \"ternary\": {\"aaxis\": {\"gridcolor\": \"white\", \"linecolor\": \"white\", \"ticks\": \"\"}, \"baxis\": {\"gridcolor\": \"white\", \"linecolor\": \"white\", \"ticks\": \"\"}, \"bgcolor\": \"#E5ECF6\", \"caxis\": {\"gridcolor\": \"white\", \"linecolor\": \"white\", \"ticks\": \"\"}}, \"title\": {\"x\": 0.05}, \"xaxis\": {\"automargin\": true, \"gridcolor\": \"white\", \"linecolor\": \"white\", \"ticks\": \"\", \"title\": {\"standoff\": 15}, \"zerolinecolor\": \"white\", \"zerolinewidth\": 2}, \"yaxis\": {\"automargin\": true, \"gridcolor\": \"white\", \"linecolor\": \"white\", \"ticks\": \"\", \"title\": {\"standoff\": 15}, \"zerolinecolor\": \"white\", \"zerolinewidth\": 2}}}, \"title\": {\"text\": \"Binned Age Distribution\"}, \"xaxis\": {\"categoryarray\": [\"<10\", \"10-20\", \"20-30\", \"30-40\", \"40-60\", \"60-80\", \"80\", \"90+\"], \"categoryorder\": \"array\"}},\n",
              "                        {\"responsive\": true}\n",
              "                    ).then(function(){\n",
              "                            \n",
              "var gd = document.getElementById('f675e707-e647-488b-aaa6-6a2749f79f72');\n",
              "var x = new MutationObserver(function (mutations, observer) {{\n",
              "        var display = window.getComputedStyle(gd).display;\n",
              "        if (!display || display === 'none') {{\n",
              "            console.log([gd, 'removed!']);\n",
              "            Plotly.purge(gd);\n",
              "            observer.disconnect();\n",
              "        }}\n",
              "}});\n",
              "\n",
              "// Listen for the removal of the full notebook cells\n",
              "var notebookContainer = gd.closest('#notebook-container');\n",
              "if (notebookContainer) {{\n",
              "    x.observe(notebookContainer, {childList: true});\n",
              "}}\n",
              "\n",
              "// Listen for the clearing of the current output cell\n",
              "var outputEl = gd.closest('.output');\n",
              "if (outputEl) {{\n",
              "    x.observe(outputEl, {childList: true});\n",
              "}}\n",
              "\n",
              "                        })\n",
              "                };\n",
              "                \n",
              "            </script>\n",
              "        </div>\n",
              "</body>\n",
              "</html>"
            ]
          },
          "metadata": {
            "tags": []
          }
        }
      ]
    },
    {
      "cell_type": "code",
      "metadata": {
        "id": "aMo_mktHz7hb"
      },
      "source": [
        " # split dataframe \n",
        " imdb_df = df.loc['imdb']\n",
        " wiki_df = df.loc['wiki']"
      ],
      "execution_count": 50,
      "outputs": []
    },
    {
      "cell_type": "code",
      "metadata": {
        "id": "5pJAYOyI_2WG",
        "colab": {
          "base_uri": "https://localhost:8080/"
        },
        "outputId": "589153fc-0ee0-4518-cfa8-192077d13afc"
      },
      "source": [
        "# show length of IMDB and WIKI dataframes \n",
        "len(imdb_df), len(wiki_df)"
      ],
      "execution_count": 51,
      "outputs": [
        {
          "output_type": "execute_result",
          "data": {
            "text/plain": [
              "(181473, 39397)"
            ]
          },
          "metadata": {
            "tags": []
          },
          "execution_count": 51
        }
      ]
    },
    {
      "cell_type": "code",
      "metadata": {
        "colab": {
          "base_uri": "https://localhost:8080/",
          "height": 195
        },
        "id": "okHWMc_81mbH",
        "outputId": "266d6740-6848-42ff-82f4-8122537c734b"
      },
      "source": [
        "imdb_df.head()"
      ],
      "execution_count": 52,
      "outputs": [
        {
          "output_type": "execute_result",
          "data": {
            "text/html": [
              "<div>\n",
              "<style scoped>\n",
              "    .dataframe tbody tr th:only-of-type {\n",
              "        vertical-align: middle;\n",
              "    }\n",
              "\n",
              "    .dataframe tbody tr th {\n",
              "        vertical-align: top;\n",
              "    }\n",
              "\n",
              "    .dataframe thead th {\n",
              "        text-align: right;\n",
              "    }\n",
              "</style>\n",
              "<table border=\"1\" class=\"dataframe\">\n",
              "  <thead>\n",
              "    <tr style=\"text-align: right;\">\n",
              "      <th></th>\n",
              "      <th>full_path</th>\n",
              "      <th>age</th>\n",
              "      <th>gender</th>\n",
              "    </tr>\n",
              "  </thead>\n",
              "  <tbody>\n",
              "    <tr>\n",
              "      <th>3</th>\n",
              "      <td>[01/nm0000001_rm946909184_1899-5-10_1968.jpg]</td>\n",
              "      <td>69</td>\n",
              "      <td>1.0</td>\n",
              "    </tr>\n",
              "    <tr>\n",
              "      <th>4</th>\n",
              "      <td>[01/nm0000001_rm980463616_1899-5-10_1968.jpg]</td>\n",
              "      <td>69</td>\n",
              "      <td>1.0</td>\n",
              "    </tr>\n",
              "    <tr>\n",
              "      <th>6</th>\n",
              "      <td>[02/nm0000002_rm1346607872_1924-9-16_2004.jpg]</td>\n",
              "      <td>80</td>\n",
              "      <td>0.0</td>\n",
              "    </tr>\n",
              "    <tr>\n",
              "      <th>7</th>\n",
              "      <td>[02/nm0000002_rm1363385088_1924-9-16_2004.jpg]</td>\n",
              "      <td>80</td>\n",
              "      <td>0.0</td>\n",
              "    </tr>\n",
              "    <tr>\n",
              "      <th>12</th>\n",
              "      <td>[02/nm0000002_rm221957120_1924-9-16_1974.jpg]</td>\n",
              "      <td>50</td>\n",
              "      <td>0.0</td>\n",
              "    </tr>\n",
              "  </tbody>\n",
              "</table>\n",
              "</div>"
            ],
            "text/plain": [
              "                                         full_path  age  gender\n",
              "3    [01/nm0000001_rm946909184_1899-5-10_1968.jpg]   69     1.0\n",
              "4    [01/nm0000001_rm980463616_1899-5-10_1968.jpg]   69     1.0\n",
              "6   [02/nm0000002_rm1346607872_1924-9-16_2004.jpg]   80     0.0\n",
              "7   [02/nm0000002_rm1363385088_1924-9-16_2004.jpg]   80     0.0\n",
              "12   [02/nm0000002_rm221957120_1924-9-16_1974.jpg]   50     0.0"
            ]
          },
          "metadata": {
            "tags": []
          },
          "execution_count": 52
        }
      ]
    },
    {
      "cell_type": "code",
      "metadata": {
        "colab": {
          "base_uri": "https://localhost:8080/"
        },
        "id": "pwrapt54_FzG",
        "outputId": "88a4fd9e-988a-44a4-c53b-eccd59c9d25f"
      },
      "source": [
        "imdb_df.info()"
      ],
      "execution_count": 53,
      "outputs": [
        {
          "output_type": "stream",
          "text": [
            "<class 'pandas.core.frame.DataFrame'>\n",
            "Int64Index: 181473 entries, 3 to 460722\n",
            "Data columns (total 3 columns):\n",
            " #   Column     Non-Null Count   Dtype  \n",
            "---  ------     --------------   -----  \n",
            " 0   full_path  181473 non-null  object \n",
            " 1   age        181473 non-null  int64  \n",
            " 2   gender     181473 non-null  float64\n",
            "dtypes: float64(1), int64(1), object(1)\n",
            "memory usage: 5.5+ MB\n"
          ],
          "name": "stdout"
        }
      ]
    },
    {
      "cell_type": "code",
      "metadata": {
        "id": "ud0jvNPD_YKC"
      },
      "source": [
        "imdb_df['age'] = imdb_df['age'].apply(lambda x: str(x))\n",
        "imdb_df['gender'] = imdb_df['gender'].apply(lambda x: str(int(x)))\n",
        "\n",
        "wiki_df['age'] = wiki_df['age'].apply(lambda x: str(x))\n",
        "wiki_df['gender'] = wiki_df['gender'].apply(lambda x: str(int(x)))"
      ],
      "execution_count": null,
      "outputs": []
    },
    {
      "cell_type": "code",
      "metadata": {
        "colab": {
          "base_uri": "https://localhost:8080/",
          "height": 195
        },
        "id": "MX7kdAhvA_4R",
        "outputId": "e9f4a035-f128-40b8-84e6-990091cca261"
      },
      "source": [
        "imdb_df.head()"
      ],
      "execution_count": 55,
      "outputs": [
        {
          "output_type": "execute_result",
          "data": {
            "text/html": [
              "<div>\n",
              "<style scoped>\n",
              "    .dataframe tbody tr th:only-of-type {\n",
              "        vertical-align: middle;\n",
              "    }\n",
              "\n",
              "    .dataframe tbody tr th {\n",
              "        vertical-align: top;\n",
              "    }\n",
              "\n",
              "    .dataframe thead th {\n",
              "        text-align: right;\n",
              "    }\n",
              "</style>\n",
              "<table border=\"1\" class=\"dataframe\">\n",
              "  <thead>\n",
              "    <tr style=\"text-align: right;\">\n",
              "      <th></th>\n",
              "      <th>full_path</th>\n",
              "      <th>age</th>\n",
              "      <th>gender</th>\n",
              "    </tr>\n",
              "  </thead>\n",
              "  <tbody>\n",
              "    <tr>\n",
              "      <th>3</th>\n",
              "      <td>[01/nm0000001_rm946909184_1899-5-10_1968.jpg]</td>\n",
              "      <td>69</td>\n",
              "      <td>1</td>\n",
              "    </tr>\n",
              "    <tr>\n",
              "      <th>4</th>\n",
              "      <td>[01/nm0000001_rm980463616_1899-5-10_1968.jpg]</td>\n",
              "      <td>69</td>\n",
              "      <td>1</td>\n",
              "    </tr>\n",
              "    <tr>\n",
              "      <th>6</th>\n",
              "      <td>[02/nm0000002_rm1346607872_1924-9-16_2004.jpg]</td>\n",
              "      <td>80</td>\n",
              "      <td>0</td>\n",
              "    </tr>\n",
              "    <tr>\n",
              "      <th>7</th>\n",
              "      <td>[02/nm0000002_rm1363385088_1924-9-16_2004.jpg]</td>\n",
              "      <td>80</td>\n",
              "      <td>0</td>\n",
              "    </tr>\n",
              "    <tr>\n",
              "      <th>12</th>\n",
              "      <td>[02/nm0000002_rm221957120_1924-9-16_1974.jpg]</td>\n",
              "      <td>50</td>\n",
              "      <td>0</td>\n",
              "    </tr>\n",
              "  </tbody>\n",
              "</table>\n",
              "</div>"
            ],
            "text/plain": [
              "                                         full_path age gender\n",
              "3    [01/nm0000001_rm946909184_1899-5-10_1968.jpg]  69      1\n",
              "4    [01/nm0000001_rm980463616_1899-5-10_1968.jpg]  69      1\n",
              "6   [02/nm0000002_rm1346607872_1924-9-16_2004.jpg]  80      0\n",
              "7   [02/nm0000002_rm1363385088_1924-9-16_2004.jpg]  80      0\n",
              "12   [02/nm0000002_rm221957120_1924-9-16_1974.jpg]  50      0"
            ]
          },
          "metadata": {
            "tags": []
          },
          "execution_count": 55
        }
      ]
    },
    {
      "cell_type": "code",
      "metadata": {
        "colab": {
          "base_uri": "https://localhost:8080/"
        },
        "id": "MVHou5UhBHhc",
        "outputId": "989297b3-de20-4cac-aa0e-76d7d16fd084"
      },
      "source": [
        "imdb_df.info()"
      ],
      "execution_count": 56,
      "outputs": [
        {
          "output_type": "stream",
          "text": [
            "<class 'pandas.core.frame.DataFrame'>\n",
            "Int64Index: 181473 entries, 3 to 460722\n",
            "Data columns (total 3 columns):\n",
            " #   Column     Non-Null Count   Dtype \n",
            "---  ------     --------------   ----- \n",
            " 0   full_path  181473 non-null  object\n",
            " 1   age        181473 non-null  object\n",
            " 2   gender     181473 non-null  object\n",
            "dtypes: object(3)\n",
            "memory usage: 5.5+ MB\n"
          ],
          "name": "stdout"
        }
      ]
    },
    {
      "cell_type": "code",
      "metadata": {
        "id": "PDzieHUzQss6"
      },
      "source": [
        "# export dataframe to csv\n",
        "imdb_df.to_csv('imdb.csv')\n",
        "wiki_df.to_csv('wiki.csv')"
      ],
      "execution_count": 57,
      "outputs": []
    },
    {
      "cell_type": "code",
      "metadata": {
        "id": "BMycPkM8Qs0S"
      },
      "source": [
        "# download exported files\n",
        "files.download('imdb.csv')\n",
        "files.download('wiki.csv')"
      ],
      "execution_count": null,
      "outputs": []
    },
    {
      "cell_type": "code",
      "metadata": {
        "id": "41XuL0GGBOj-"
      },
      "source": [
        "# # get image pixels\n",
        "# def getImagePixels( image_path, folder_path,):\n",
        "#   \"\"\"\n",
        "#     Gets the pixels of th input images.\n",
        "#     :param image_path: path to the image file\n",
        "#     :param folder_path: path to the image folder\n",
        "#     :return: array of image pixels.\n",
        "#     \"\"\"\n",
        "#   img = image.load_img(folder_path + image_path[0], grayscale=False, target_size=TARGET_SIZE)\n",
        "#   pixel = image.img_to_array(img).reshape(1, -1)[0]\n",
        "#   val = ''\n",
        "#   for i in  pixel:\n",
        "#     a = str(i) + ' ' \n",
        "#     val += a\n",
        "#   return val[:-1]"
      ],
      "execution_count": null,
      "outputs": []
    },
    {
      "cell_type": "code",
      "metadata": {
        "id": "_M1wLRqi5beA"
      },
      "source": [
        "# alternative function to get pixels\n",
        "# def load_images(series, folder_path):\n",
        "#   features = []\n",
        "#   for  path in series.values:\n",
        "#     image_path = folder_path + path[0]\n",
        "#     image = cv2.imread(image_path)\n",
        "#     resized_image = cv2.resize(image, TARGET_SIZE)\n",
        "#     features.append(np.array(resized_image))\n",
        "#   return features\n",
        "\n",
        "# imdb_features = load_images(age_df['full_path'].loc['imdb'], 'imdb_crop/')\n",
        "# wiki_features = load_images(age_df['full_path'].loc['wiki'], 'wiki_crop/')"
      ],
      "execution_count": null,
      "outputs": []
    },
    {
      "cell_type": "code",
      "metadata": {
        "id": "5k-Z3Dvg7vRx"
      },
      "source": [
        "# create column of pixels\n",
        "# imdb_df['pixels'] = imdb_df['full_path'].apply(getImagePixels, folder_path='imdb_crop/')\n",
        "# wiki_df['pixels'] = wiki_df['full_path'].apply(getImagePixels, folder_path='wiki_crop/')"
      ],
      "execution_count": null,
      "outputs": []
    },
    {
      "cell_type": "code",
      "metadata": {
        "id": "MME5qI593oI6"
      },
      "source": [
        "# get pixels as numpy arrays\n",
        "# X_train = imdb_1['pixels'].apply(lambda x: np.array(x.split(' '), dtype='float32'))"
      ],
      "execution_count": null,
      "outputs": []
    }
  ]
}