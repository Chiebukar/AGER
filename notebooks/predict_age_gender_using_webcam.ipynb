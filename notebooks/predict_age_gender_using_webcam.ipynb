{
  "nbformat": 4,
  "nbformat_minor": 0,
  "metadata": {
    "colab": {
      "name": "Age_Gender_webcam.ipynb",
      "provenance": [],
      "collapsed_sections": [],
      "mount_file_id": "1x9D5hfo07ZsKlSUXsP1D10HYAPlBG17j",
      "authorship_tag": "ABX9TyOMdjlLhqNoJW6s1xwtcAG3",
      "include_colab_link": true
    },
    "kernelspec": {
      "name": "python3",
      "display_name": "Python 3"
    },
    "language_info": {
      "name": "python"
    },
    "accelerator": "GPU"
  },
  "cells": [
    {
      "cell_type": "markdown",
      "metadata": {
        "id": "view-in-github",
        "colab_type": "text"
      },
      "source": [
        "<a href=\"https://colab.research.google.com/github/Chiebukar/AGER/blob/main/Age_Gender_webcam.ipynb\" target=\"_parent\"><img src=\"https://colab.research.google.com/assets/colab-badge.svg\" alt=\"Open In Colab\"/></a>"
      ]
    },
    {
      "cell_type": "markdown",
      "metadata": {
        "id": "e6Ey3U7cAWAj"
      },
      "source": [
        "open with colab for better view\n",
        "\n",
        "Follow link (https://colab.research.google.com/drive/1x9D5hfo07ZsKlSUXsP1D10HYAPlBG17j?authuser=2#scrollTo=e6Ey3U7cAWAj) to use with webcam\n",
        "\n",
        "\n",
        "go to cell( https://colab.research.google.com/drive/1x9D5hfo07ZsKlSUXsP1D10HYAPlBG17j?authuser=2#scrollTo=ftjdHfXrDKVp&line=6&uniqifier=1) to test with image from webcam\n",
        "\n",
        "\n",
        "go to cell (https://colab.research.google.com/drive/1x9D5hfo07ZsKlSUXsP1D10HYAPlBG17j?authuser=2#scrollTo=eZbfHSUALaT1&line=6&uniqifier=1) to use video from webcam "
      ]
    },
    {
      "cell_type": "code",
      "metadata": {
        "id": "EbQSup9ACieD"
      },
      "source": [
        "# import relevant libraries\n",
        "import numpy as np\n",
        "import cv2\n",
        "from keras.preprocessing.image import load_img, save_img, img_to_array\n",
        "from keras.models import load_model\n",
        "from IPython.display import display, Javascript, Image\n",
        "from google.colab.output import eval_js\n",
        "from base64 import b64decode, b64encode\n",
        "from google.colab.patches import cv2_imshow\n",
        "import PIL\n",
        "import io\n",
        "import html\n",
        "import time\n",
        "import os\n",
        "import matplotlib.pyplot as plt\n",
        "%matplotlib inline"
      ],
      "execution_count": null,
      "outputs": []
    },
    {
      "cell_type": "markdown",
      "metadata": {
        "id": "dwlLi5HxGgf2"
      },
      "source": [
        "# Setting up the models"
      ]
    },
    {
      "cell_type": "code",
      "metadata": {
        "id": "Y-anO_H9GTxT"
      },
      "source": [
        "# get path to models\n",
        "path = '/content/drive/MyDrive/Colab Notebooks/models/'\n",
        "ageModelPath = os.path.join(path, 'age_model.h5')\n",
        "genderModelPath = os.path.join(path, 'gender_model.h5')"
      ],
      "execution_count": null,
      "outputs": []
    },
    {
      "cell_type": "code",
      "metadata": {
        "id": "6g-9x4YgFbVg"
      },
      "source": [
        "# get models\n",
        "age_model = load_model(ageModelPath)\n",
        "gender_model = load_model(genderModelPath)"
      ],
      "execution_count": null,
      "outputs": []
    },
    {
      "cell_type": "code",
      "metadata": {
        "id": "Kzjm0EgTIS5H"
      },
      "source": [
        "# define class dictionries\n",
        "gender_dict = {0: 'Female', 1: 'Male'}\n",
        " \n",
        "# face detector\n",
        "face_cascade = cv2.CascadeClassifier('/content/drive/MyDrive/Colab Notebooks/haarcascade_frontalface_default.xml')"
      ],
      "execution_count": null,
      "outputs": []
    },
    {
      "cell_type": "code",
      "metadata": {
        "id": "HAcbWD4F0kGf"
      },
      "source": [
        "# get label icons\n",
        "icons_folder = '/content/drive/MyDrive/Colab Notebooks/icons/'\n",
        "icon_dict = {}\n",
        " \n",
        "for icon in os.listdir(icons_folder):\n",
        "  icon_path = os.path.join(icons_folder+icon)\n",
        "  icon_name = icon.split('.')[0]\n",
        "  icon_img = cv2.imread(icon_path)\n",
        "  icon_dict[icon_name] = icon_img"
      ],
      "execution_count": null,
      "outputs": []
    },
    {
      "cell_type": "code",
      "metadata": {
        "id": "V4TcGO4cdSV3"
      },
      "source": [
        "icon_dict.keys()"
      ],
      "execution_count": null,
      "outputs": []
    },
    {
      "cell_type": "markdown",
      "metadata": {
        "id": "4l6i9mFMSN5E"
      },
      "source": [
        "# Image Data Preprocessing"
      ]
    },
    {
      "cell_type": "code",
      "metadata": {
        "id": "rZ1h56WCQ2tP"
      },
      "source": [
        "# function to convert the JavaScript object into an OpenCV image\n",
        "def js_to_image(js_reply):\n",
        "  \"\"\"\n",
        "  Converts Javascript image object to Opencv image\n",
        "  Params:\n",
        "          js_reply: JavaScript object containing image from webcam\n",
        "  Returns:\n",
        "          img: OpenCV BGR image\n",
        "  \"\"\"\n",
        "  # decode base64 image\n",
        "  image_bytes = b64decode(js_reply.split(',')[1])\n",
        "  # convert bytes to numpy array\n",
        "  jpg_as_np = np.frombuffer(image_bytes, dtype=np.uint8)\n",
        "  # decode numpy array into OpenCV BGR image\n",
        "  img = cv2.imdecode(jpg_as_np, flags=1)\n",
        " \n",
        "  return img"
      ],
      "execution_count": null,
      "outputs": []
    },
    {
      "cell_type": "code",
      "metadata": {
        "id": "o8y0VG6_Rsyj"
      },
      "source": [
        "# function to convert OpenCV Rectangle bounding box image into base64 byte string to be overlayed on video stream\n",
        "def bbox_to_bytes(bbox_array):\n",
        "  \"\"\"\n",
        "  Params:\n",
        "          bbox_array: Numpy array (pixels) containing rectangle to overlay on video stream.\n",
        "  Returns:\n",
        "        bytes: Base64 image byte string\n",
        "  \"\"\"\n",
        "  # convert array into PIL image\n",
        "  bbox_PIL = PIL.Image.fromarray(bbox_array, 'RGBA')\n",
        "  iobuf = io.BytesIO()\n",
        "  # format bbox into png for return\n",
        "  bbox_PIL.save(iobuf, format='png')\n",
        "  # format return string\n",
        "  bbox_bytes = 'data:image/png;base64,{}'.format((str(b64encode(iobuf.getvalue()), 'utf-8')))\n",
        " \n",
        "  return bbox_bytes"
      ],
      "execution_count": null,
      "outputs": []
    },
    {
      "cell_type": "code",
      "metadata": {
        "id": "Gdu9rLZeND7z"
      },
      "source": [
        "# fuction to preprocess image for classification\n",
        "def preprocess_image(img):\n",
        "    img = cv2.resize(img, (224,224))\n",
        "    img = img_to_array(img)\n",
        "    img = np.expand_dims(img, axis=0)\n",
        "    img /= 255\n",
        "    return img"
      ],
      "execution_count": null,
      "outputs": []
    },
    {
      "cell_type": "markdown",
      "metadata": {
        "id": "IICD8yfutIrE"
      },
      "source": [
        "# Image Classification"
      ]
    },
    {
      "cell_type": "code",
      "metadata": {
        "id": "R6L1aVzLKosp"
      },
      "source": [
        "# function to run classifiers on image\n",
        "def classify_image(img):\n",
        "  img_pixels = preprocess_image(img)\n",
        " \n",
        "  # predict age\n",
        "  output_indices = np.array(range(101))     # indices for age labels\n",
        "  age_prediction = age_model.predict(img_pixels)\n",
        "  age = str(int(np.floor(np.sum(age_prediction * output_indices, axis = 1))[0]))\n",
        " \n",
        "  # gender prediction\n",
        "  gender_prediction = gender_model.predict(img_pixels)\n",
        "  gender_index = np.argmax(gender_prediction)\n",
        "  gender = gender_dict[gender_index]\n",
        " \n",
        "  return age, gender"
      ],
      "execution_count": null,
      "outputs": []
    },
    {
      "cell_type": "code",
      "metadata": {
        "id": "5QBTT-Se2I2w"
      },
      "source": [
        "def putText(age,gender,bbox_array,x,y,w,h, video = False):\n",
        "  boxColourTop = (46,200,255)\n",
        "  boxColourSide = (0,0,0)\n",
        " \n",
        "  overlay = bbox_array.copy()\n",
        "  alpha = 0.0\n",
        " \n",
        "  gender_icon = icon_dict[gender]\n",
        "  \n",
        " \n",
        "  if video:\n",
        "    gender_icon = cv2.cvtColor(gender_icon, cv2.COLOR_RGB2RGBA)\n",
        " \n",
        " \n",
        "  boxTriangle = np.array([(x+int(w/2), y), (x+int(w/2)-20, y-20), (x+int(w/2)+20, y-20)])\n",
        "  cv2.drawContours(bbox_array, [boxTriangle], 0, boxColourTop, -1)\n",
        "  bbox_array = cv2.rectangle(bbox_array,(x+int(w/2)-50,y-20),(x+int(w/2)+50,y-90),boxColourTop,cv2.FILLED)\n",
        " \n",
        "  bbox_array = cv2.putText(bbox_array, \"{}\".format(age), \n",
        "                  (x+int(w/2), y - 45), cv2.FONT_HERSHEY_SIMPLEX, 0.5, 2)\n",
        " \n",
        "  bbox_array[y-75:y-75+gender_icon.shape[0], x+int(w/2)-45:x+int(w/2)-45+gender_icon.shape[1]] = gender_icon"
      ],
      "execution_count": null,
      "outputs": []
    },
    {
      "cell_type": "markdown",
      "metadata": {
        "id": "5H1GyPazw5Qn"
      },
      "source": [
        "# Setting up webcam for capturing Images"
      ]
    },
    {
      "cell_type": "code",
      "metadata": {
        "id": "XwUtEojjnPRb"
      },
      "source": [
        "def take_photo(quality=0.8):\n",
        "  js = Javascript('''\n",
        "    async function takePhoto(quality) {\n",
        "      const div = document.createElement('div');\n",
        "      const capture = document.createElement('button');\n",
        "      capture.textContent = 'Capture';\n",
        "      div.appendChild(capture);\n",
        " \n",
        "      const video = document.createElement('video');\n",
        "      video.style.display = 'block';\n",
        "      const stream = await navigator.mediaDevices.getUserMedia({video: true});\n",
        " \n",
        "      document.body.appendChild(div);\n",
        "      div.appendChild(video);\n",
        "      video.srcObject = stream;\n",
        "      await video.play();\n",
        " \n",
        "      // Resize the output to fit the video element.\n",
        "      google.colab.output.setIframeHeight(document.documentElement.scrollHeight, true);\n",
        " \n",
        "      // Wait for Capture to be clicked.\n",
        "      await new Promise((resolve) => capture.onclick = resolve);\n",
        " \n",
        "      const canvas = document.createElement('canvas');\n",
        "      canvas.width = video.videoWidth;\n",
        "      canvas.height = video.videoHeight;\n",
        "      canvas.getContext('2d').drawImage(video, 0, 0);\n",
        "      stream.getVideoTracks()[0].stop();\n",
        "      div.remove();\n",
        "      return canvas.toDataURL('image/jpeg', quality);\n",
        "    }\n",
        "    ''')\n",
        "  display(js)\n",
        " \n",
        "  # get photo data\n",
        "  data = eval_js('takePhoto({})'.format(quality))\n",
        "  # get OpenCV format image\n",
        "  img = js_to_image(data) \n",
        "  # grayscale img\n",
        "  gray = cv2.cvtColor(img, cv2.COLOR_RGB2GRAY)\n",
        "  print(gray.shape)\n",
        "  # get face bounding box coordinates using Haar Cascade\n",
        "  faces = face_cascade.detectMultiScale(gray)\n",
        "  return img, faces"
      ],
      "execution_count": null,
      "outputs": []
    },
    {
      "cell_type": "code",
      "metadata": {
        "id": "VVwX3Y5y4VEP"
      },
      "source": [
        "def image_output(filename='photo.jpg'):\n",
        " \n",
        "  img, faces = take_photo(quality=0.8)\n",
        "  for (x,y,w,h) in faces:\n",
        "      img = cv2.rectangle(img,(x,y),(x+w,y+h),(220,220,220),1)\n",
        "      detected_face = img[int(y): int(y+h), int(x): int(x+w)]\n",
        "      \n",
        "      # get predicted labels\n",
        "      age, gender = classify_image(detected_face)\n",
        " \n",
        "      # \n",
        "      putText(age,gender,img,x,y,w,h, video)\n",
        " \n",
        "  # save image\n",
        "  cv2.imwrite(filename, img)\n",
        "  return filename"
      ],
      "execution_count": null,
      "outputs": []
    },
    {
      "cell_type": "markdown",
      "metadata": {
        "id": "lA5wtVSkPOmq"
      },
      "source": [
        "# Setting up webcam for video stream"
      ]
    },
    {
      "cell_type": "code",
      "metadata": {
        "id": "sK8SbG8YuwDR"
      },
      "source": [
        "# JavaScript to  create live video stream using webcam \n",
        "def video_stream():\n",
        "  js = Javascript('''\n",
        "    var video;\n",
        "    var div = null;\n",
        "    var stream;\n",
        "    var captureCanvas;\n",
        "    var imgElement;\n",
        "    var labelElement;\n",
        "    \n",
        "    var pendingResolve = null;\n",
        "    var shutdown = false;\n",
        " \n",
        "    function removeDom() {\n",
        "       stream.getVideoTracks()[0].stop();\n",
        "       video.remove();\n",
        "       div.remove();\n",
        "       video = null;\n",
        "       div = null;\n",
        "       stream = null;\n",
        "       imgElement = null;\n",
        "       captureCanvas = null;\n",
        "       labelElement = null;\n",
        "    }\n",
        " \n",
        "    function onAnimationFrame() {\n",
        "      if (!shutdown) {\n",
        "        window.requestAnimationFrame(onAnimationFrame);\n",
        "      }\n",
        "      if (pendingResolve) {\n",
        "        var result = \"\";\n",
        "        if (!shutdown) {\n",
        "          captureCanvas.getContext('2d').drawImage(video, 0, 0, 640, 480);\n",
        "          result = captureCanvas.toDataURL('image/jpeg', 0.8)\n",
        "        }\n",
        "        var lp = pendingResolve;\n",
        "        pendingResolve = null;\n",
        "        lp(result);\n",
        "      }\n",
        "    }\n",
        "    async function createDom() {\n",
        "      if (div !== null) {\n",
        "        return stream;\n",
        "      }\n",
        " \n",
        "      div = document.createElement('div');\n",
        "      div.style.border = '2px solid black';\n",
        "      div.style.padding = '3px';\n",
        "      div.style.width = '100%';\n",
        "      div.style.maxWidth = '600px';\n",
        "      document.body.appendChild(div);\n",
        "      \n",
        "      const modelOut = document.createElement('div');\n",
        "      modelOut.innerHTML = \"<span>Status:</span>\";\n",
        "      labelElement = document.createElement('span');\n",
        "      labelElement.innerText = 'No data';\n",
        "      labelElement.style.fontWeight = 'bold';\n",
        "      modelOut.appendChild(labelElement);\n",
        "      div.appendChild(modelOut);\n",
        "           \n",
        "      video = document.createElement('video');\n",
        "      video.style.display = 'block';\n",
        "      video.width = div.clientWidth - 6;\n",
        "      video.setAttribute('playsinline', '');\n",
        "      video.onclick = () => { shutdown = true; };\n",
        "      stream = await navigator.mediaDevices.getUserMedia(\n",
        "          {video: { facingMode: \"environment\"}});\n",
        "      div.appendChild(video);\n",
        " \n",
        "      imgElement = document.createElement('img');\n",
        "      imgElement.style.position = 'absolute';\n",
        "      imgElement.style.zIndex = 1;\n",
        "      imgElement.onclick = () => { shutdown = true; };\n",
        "      div.appendChild(imgElement);\n",
        "      \n",
        "      const instruction = document.createElement('div');\n",
        "      instruction.innerHTML = \n",
        "          '<span style=\"color: red; font-weight: bold;\">' +\n",
        "          'When finished, click here or on the video to stop this demo</span>';\n",
        "      div.appendChild(instruction);\n",
        "      instruction.onclick = () => { shutdown = true; };\n",
        "      \n",
        "      video.srcObject = stream;\n",
        "      await video.play();\n",
        " \n",
        "      captureCanvas = document.createElement('canvas');\n",
        "      captureCanvas.width = 640; //video.videoWidth;\n",
        "      captureCanvas.height = 480; //video.videoHeight;\n",
        "      window.requestAnimationFrame(onAnimationFrame);\n",
        "      \n",
        "      return stream;\n",
        "    }\n",
        "    async function stream_frame(label, imgData) {\n",
        "      if (shutdown) {\n",
        "        removeDom();\n",
        "        shutdown = false;\n",
        "        return '';\n",
        "      }\n",
        "      var preCreate = Date.now();\n",
        "      stream = await createDom();\n",
        "      \n",
        "      var preShow = Date.now();\n",
        "      if (label != \"\") {\n",
        "        labelElement.innerHTML = label;\n",
        "      }\n",
        "            \n",
        "      if (imgData != \"\") {\n",
        "        var videoRect = video.getClientRects()[0];\n",
        "        imgElement.style.top = videoRect.top + \"px\";\n",
        "        imgElement.style.left = videoRect.left + \"px\";\n",
        "        imgElement.style.width = videoRect.width + \"px\";\n",
        "        imgElement.style.height = videoRect.height + \"px\";\n",
        "        imgElement.src = imgData;\n",
        "      }\n",
        " \n",
        "      var preCapture = Date.now();\n",
        "      var result = await new Promise(function(resolve, reject) {\n",
        "        pendingResolve = resolve;\n",
        "      });\n",
        "      shutdown = false;\n",
        "      \n",
        "      return {'create': preShow - preCreate, \n",
        "              'show': preCapture - preShow, \n",
        "              'capture': Date.now() - preCapture,\n",
        "              'img': result};\n",
        "    }\n",
        "    ''')\n",
        "  display(js)"
      ],
      "execution_count": null,
      "outputs": []
    },
    {
      "cell_type": "code",
      "metadata": {
        "id": "XUOw3KC0QW5m"
      },
      "source": [
        "# function to get javascript image data from web cam\n",
        "def video_frame(label, bbox):\n",
        "  data = eval_js('stream_frame(\"{}\", \"{}\")'.format(label, bbox))\n",
        "  return data"
      ],
      "execution_count": null,
      "outputs": []
    },
    {
      "cell_type": "markdown",
      "metadata": {
        "id": "i47-UN1BCt1v"
      },
      "source": [
        "# Test webcam for images"
      ]
    },
    {
      "cell_type": "code",
      "metadata": {
        "id": "ftjdHfXrDKVp"
      },
      "source": [
        "# uncomment cell to use\n",
        "\n",
        "# video = False\n",
        "# try:\n",
        "#   filename = image_output('photo.jpg')\n",
        "#   print('Saved to {}'.format(filename))\n",
        "  \n",
        "#   # Show the image which was just taken.\n",
        "#   display(Image(filename))\n",
        "# except Exception as err:\n",
        "#   # Errors will be thrown if the user does not have a webcam or if they do not\n",
        "#   # grant the page permission to access it.\n",
        "#   print('error: ',str(err))"
      ],
      "execution_count": null,
      "outputs": []
    },
    {
      "cell_type": "markdown",
      "metadata": {
        "id": "j4-WqKn0Kz4i"
      },
      "source": [
        "# Test webcam for video stream\n",
        "\n",
        "\n",
        "\n",
        "\n"
      ]
    },
    {
      "cell_type": "code",
      "metadata": {
        "id": "eZbfHSUALaT1"
      },
      "source": [
        "#uncomment cell to use\n",
        "\n",
        "# video= True\n",
        "# # start streaming video from webcam\n",
        "# video_stream()\n",
        "# # label for video\n",
        "# label_html = 'Capturing...'\n",
        "# # initialze bounding box to empty\n",
        "# bbox = ''\n",
        "# count = 0 \n",
        "# while True:\n",
        "#   js_reply = video_frame(label_html, bbox)\n",
        "#   if not js_reply:\n",
        "#     break\n",
        " \n",
        "#   # convert JS response to OpenCV Image\n",
        "#   img = js_to_image(js_reply[\"img\"])\n",
        " \n",
        "#   # create transparent overlay for bounding box\n",
        "#   bbox_array = np.zeros([480,640,4], dtype=np.uint8)\n",
        "#   # grayscale image for face detection\n",
        "#   gray = cv2.cvtColor(img, cv2.COLOR_RGB2GRAY)\n",
        " \n",
        "#   # get face region coordinates\n",
        "#   faces = face_cascade.detectMultiScale(gray)\n",
        "#   # get face bounding box for overlay\n",
        "#   for (x,y,w,h) in faces:\n",
        "#     bbox_array = cv2.rectangle(bbox_array,(x,y),(x+w,y+h),(255,0,0),2)\n",
        "#     detected_face = img[int(y): int(y+h), int(x): int(x+w)] # crop detected face\n",
        " \n",
        "#     try:\n",
        "#       age, gender = classify_image(detected_face) # classify image and get labels\n",
        "      \n",
        " \n",
        "#       # add labels to image\n",
        "#       putText(age,gender,bbox_array,x,y,w,h,video)\n",
        "    \n",
        "      \n",
        "#     except Exception as err:\n",
        "#       print(str(err))      # show errors if encountered \n",
        "        \n",
        "#   bbox_array[:,:,3] = (bbox_array.max(axis = 2) > 0 ).astype(int)  * 255\n",
        "#   # convert overlay of bbox into bytes\n",
        "#   bbox_bytes = bbox_to_bytes(bbox_array)\n",
        "#   # update bbox so next frame gets new overlay\n",
        "#   bbox = bbox_bytes"
      ],
      "execution_count": null,
      "outputs": []
    }
  ]
}
